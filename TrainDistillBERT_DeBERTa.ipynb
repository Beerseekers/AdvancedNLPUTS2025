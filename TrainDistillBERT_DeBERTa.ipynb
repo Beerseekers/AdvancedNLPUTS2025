{
  "nbformat": 4,
  "nbformat_minor": 0,
  "metadata": {
    "colab": {
      "provenance": [],
      "gpuType": "T4",
      "collapsed_sections": [
        "qoSD37Dnj-Qc",
        "SaXk4zdJkEgp",
        "f5axVK5Ul7gU",
        "9MYjEJ6imNEK",
        "ifL9JJNsmnP3",
        "ifC6A6rvr1Qo"
      ]
    },
    "kernelspec": {
      "name": "python3",
      "display_name": "Python 3"
    },
    "language_info": {
      "name": "python"
    },
    "accelerator": "GPU"
  },
  "cells": [
    {
      "cell_type": "markdown",
      "source": [
        "# Load Dataset"
      ],
      "metadata": {
        "id": "qoSD37Dnj-Qc"
      }
    },
    {
      "cell_type": "code",
      "execution_count": null,
      "metadata": {
        "colab": {
          "base_uri": "https://localhost:8080/"
        },
        "id": "VKdsQEgBH0UE",
        "outputId": "c8b1ee43-561b-4142-8641-926416876129"
      },
      "outputs": [
        {
          "output_type": "stream",
          "name": "stdout",
          "text": [
            "Using Colab cache for faster access to the 'ai-vs-human-text' dataset.\n",
            "Path to dataset files: /kaggle/input/ai-vs-human-text\n"
          ]
        }
      ],
      "source": [
        "import kagglehub\n",
        "\n",
        "# Download latest version\n",
        "path = kagglehub.dataset_download(\"shanegerami/ai-vs-human-text\")\n",
        "\n",
        "print(\"Path to dataset files:\", path)"
      ]
    },
    {
      "cell_type": "code",
      "source": [
        "import pandas as pd\n",
        "import os\n",
        "\n",
        "file_path = os.path.join(path, 'AI_Human.csv')\n",
        "\n",
        "df = pd.read_csv(file_path)\n",
        "\n",
        "df.head()\n",
        "\n",
        "# 0 -> Human\n",
        "# 1 -> AI"
      ],
      "metadata": {
        "colab": {
          "base_uri": "https://localhost:8080/"
        },
        "id": "_IeStnNfjMsc",
        "outputId": "fc98dc11-fd54-4b8b-ad79-0fa71b9a0223"
      },
      "execution_count": null,
      "outputs": [
        {
          "output_type": "execute_result",
          "data": {
            "text/plain": [
              "                                                text  generated\n",
              "0  Cars. Cars have been around since they became ...        0.0\n",
              "1  Transportation is a large necessity in most co...        0.0\n",
              "2  \"America's love affair with it's vehicles seem...        0.0\n",
              "3  How often do you ride in a car? Do you drive a...        0.0\n",
              "4  Cars are a wonderful thing. They are perhaps o...        0.0"
            ],
            "text/html": [
              "\n",
              "  <div id=\"df-5c6a9585-f157-48c4-a5a7-d9a3af1f27c3\" class=\"colab-df-container\">\n",
              "    <div>\n",
              "<style scoped>\n",
              "    .dataframe tbody tr th:only-of-type {\n",
              "        vertical-align: middle;\n",
              "    }\n",
              "\n",
              "    .dataframe tbody tr th {\n",
              "        vertical-align: top;\n",
              "    }\n",
              "\n",
              "    .dataframe thead th {\n",
              "        text-align: right;\n",
              "    }\n",
              "</style>\n",
              "<table border=\"1\" class=\"dataframe\">\n",
              "  <thead>\n",
              "    <tr style=\"text-align: right;\">\n",
              "      <th></th>\n",
              "      <th>text</th>\n",
              "      <th>generated</th>\n",
              "    </tr>\n",
              "  </thead>\n",
              "  <tbody>\n",
              "    <tr>\n",
              "      <th>0</th>\n",
              "      <td>Cars. Cars have been around since they became ...</td>\n",
              "      <td>0.0</td>\n",
              "    </tr>\n",
              "    <tr>\n",
              "      <th>1</th>\n",
              "      <td>Transportation is a large necessity in most co...</td>\n",
              "      <td>0.0</td>\n",
              "    </tr>\n",
              "    <tr>\n",
              "      <th>2</th>\n",
              "      <td>\"America's love affair with it's vehicles seem...</td>\n",
              "      <td>0.0</td>\n",
              "    </tr>\n",
              "    <tr>\n",
              "      <th>3</th>\n",
              "      <td>How often do you ride in a car? Do you drive a...</td>\n",
              "      <td>0.0</td>\n",
              "    </tr>\n",
              "    <tr>\n",
              "      <th>4</th>\n",
              "      <td>Cars are a wonderful thing. They are perhaps o...</td>\n",
              "      <td>0.0</td>\n",
              "    </tr>\n",
              "  </tbody>\n",
              "</table>\n",
              "</div>\n",
              "    <div class=\"colab-df-buttons\">\n",
              "\n",
              "  <div class=\"colab-df-container\">\n",
              "    <button class=\"colab-df-convert\" onclick=\"convertToInteractive('df-5c6a9585-f157-48c4-a5a7-d9a3af1f27c3')\"\n",
              "            title=\"Convert this dataframe to an interactive table.\"\n",
              "            style=\"display:none;\">\n",
              "\n",
              "  <svg xmlns=\"http://www.w3.org/2000/svg\" height=\"24px\" viewBox=\"0 -960 960 960\">\n",
              "    <path d=\"M120-120v-720h720v720H120Zm60-500h600v-160H180v160Zm220 220h160v-160H400v160Zm0 220h160v-160H400v160ZM180-400h160v-160H180v160Zm440 0h160v-160H620v160ZM180-180h160v-160H180v160Zm440 0h160v-160H620v160Z\"/>\n",
              "  </svg>\n",
              "    </button>\n",
              "\n",
              "  <style>\n",
              "    .colab-df-container {\n",
              "      display:flex;\n",
              "      gap: 12px;\n",
              "    }\n",
              "\n",
              "    .colab-df-convert {\n",
              "      background-color: #E8F0FE;\n",
              "      border: none;\n",
              "      border-radius: 50%;\n",
              "      cursor: pointer;\n",
              "      display: none;\n",
              "      fill: #1967D2;\n",
              "      height: 32px;\n",
              "      padding: 0 0 0 0;\n",
              "      width: 32px;\n",
              "    }\n",
              "\n",
              "    .colab-df-convert:hover {\n",
              "      background-color: #E2EBFA;\n",
              "      box-shadow: 0px 1px 2px rgba(60, 64, 67, 0.3), 0px 1px 3px 1px rgba(60, 64, 67, 0.15);\n",
              "      fill: #174EA6;\n",
              "    }\n",
              "\n",
              "    .colab-df-buttons div {\n",
              "      margin-bottom: 4px;\n",
              "    }\n",
              "\n",
              "    [theme=dark] .colab-df-convert {\n",
              "      background-color: #3B4455;\n",
              "      fill: #D2E3FC;\n",
              "    }\n",
              "\n",
              "    [theme=dark] .colab-df-convert:hover {\n",
              "      background-color: #434B5C;\n",
              "      box-shadow: 0px 1px 3px 1px rgba(0, 0, 0, 0.15);\n",
              "      filter: drop-shadow(0px 1px 2px rgba(0, 0, 0, 0.3));\n",
              "      fill: #FFFFFF;\n",
              "    }\n",
              "  </style>\n",
              "\n",
              "    <script>\n",
              "      const buttonEl =\n",
              "        document.querySelector('#df-5c6a9585-f157-48c4-a5a7-d9a3af1f27c3 button.colab-df-convert');\n",
              "      buttonEl.style.display =\n",
              "        google.colab.kernel.accessAllowed ? 'block' : 'none';\n",
              "\n",
              "      async function convertToInteractive(key) {\n",
              "        const element = document.querySelector('#df-5c6a9585-f157-48c4-a5a7-d9a3af1f27c3');\n",
              "        const dataTable =\n",
              "          await google.colab.kernel.invokeFunction('convertToInteractive',\n",
              "                                                    [key], {});\n",
              "        if (!dataTable) return;\n",
              "\n",
              "        const docLinkHtml = 'Like what you see? Visit the ' +\n",
              "          '<a target=\"_blank\" href=https://colab.research.google.com/notebooks/data_table.ipynb>data table notebook</a>'\n",
              "          + ' to learn more about interactive tables.';\n",
              "        element.innerHTML = '';\n",
              "        dataTable['output_type'] = 'display_data';\n",
              "        await google.colab.output.renderOutput(dataTable, element);\n",
              "        const docLink = document.createElement('div');\n",
              "        docLink.innerHTML = docLinkHtml;\n",
              "        element.appendChild(docLink);\n",
              "      }\n",
              "    </script>\n",
              "  </div>\n",
              "\n",
              "\n",
              "    <div id=\"df-bf8ccce9-9a8d-4440-8878-fb61b831d14d\">\n",
              "      <button class=\"colab-df-quickchart\" onclick=\"quickchart('df-bf8ccce9-9a8d-4440-8878-fb61b831d14d')\"\n",
              "                title=\"Suggest charts\"\n",
              "                style=\"display:none;\">\n",
              "\n",
              "<svg xmlns=\"http://www.w3.org/2000/svg\" height=\"24px\"viewBox=\"0 0 24 24\"\n",
              "     width=\"24px\">\n",
              "    <g>\n",
              "        <path d=\"M19 3H5c-1.1 0-2 .9-2 2v14c0 1.1.9 2 2 2h14c1.1 0 2-.9 2-2V5c0-1.1-.9-2-2-2zM9 17H7v-7h2v7zm4 0h-2V7h2v10zm4 0h-2v-4h2v4z\"/>\n",
              "    </g>\n",
              "</svg>\n",
              "      </button>\n",
              "\n",
              "<style>\n",
              "  .colab-df-quickchart {\n",
              "      --bg-color: #E8F0FE;\n",
              "      --fill-color: #1967D2;\n",
              "      --hover-bg-color: #E2EBFA;\n",
              "      --hover-fill-color: #174EA6;\n",
              "      --disabled-fill-color: #AAA;\n",
              "      --disabled-bg-color: #DDD;\n",
              "  }\n",
              "\n",
              "  [theme=dark] .colab-df-quickchart {\n",
              "      --bg-color: #3B4455;\n",
              "      --fill-color: #D2E3FC;\n",
              "      --hover-bg-color: #434B5C;\n",
              "      --hover-fill-color: #FFFFFF;\n",
              "      --disabled-bg-color: #3B4455;\n",
              "      --disabled-fill-color: #666;\n",
              "  }\n",
              "\n",
              "  .colab-df-quickchart {\n",
              "    background-color: var(--bg-color);\n",
              "    border: none;\n",
              "    border-radius: 50%;\n",
              "    cursor: pointer;\n",
              "    display: none;\n",
              "    fill: var(--fill-color);\n",
              "    height: 32px;\n",
              "    padding: 0;\n",
              "    width: 32px;\n",
              "  }\n",
              "\n",
              "  .colab-df-quickchart:hover {\n",
              "    background-color: var(--hover-bg-color);\n",
              "    box-shadow: 0 1px 2px rgba(60, 64, 67, 0.3), 0 1px 3px 1px rgba(60, 64, 67, 0.15);\n",
              "    fill: var(--button-hover-fill-color);\n",
              "  }\n",
              "\n",
              "  .colab-df-quickchart-complete:disabled,\n",
              "  .colab-df-quickchart-complete:disabled:hover {\n",
              "    background-color: var(--disabled-bg-color);\n",
              "    fill: var(--disabled-fill-color);\n",
              "    box-shadow: none;\n",
              "  }\n",
              "\n",
              "  .colab-df-spinner {\n",
              "    border: 2px solid var(--fill-color);\n",
              "    border-color: transparent;\n",
              "    border-bottom-color: var(--fill-color);\n",
              "    animation:\n",
              "      spin 1s steps(1) infinite;\n",
              "  }\n",
              "\n",
              "  @keyframes spin {\n",
              "    0% {\n",
              "      border-color: transparent;\n",
              "      border-bottom-color: var(--fill-color);\n",
              "      border-left-color: var(--fill-color);\n",
              "    }\n",
              "    20% {\n",
              "      border-color: transparent;\n",
              "      border-left-color: var(--fill-color);\n",
              "      border-top-color: var(--fill-color);\n",
              "    }\n",
              "    30% {\n",
              "      border-color: transparent;\n",
              "      border-left-color: var(--fill-color);\n",
              "      border-top-color: var(--fill-color);\n",
              "      border-right-color: var(--fill-color);\n",
              "    }\n",
              "    40% {\n",
              "      border-color: transparent;\n",
              "      border-right-color: var(--fill-color);\n",
              "      border-top-color: var(--fill-color);\n",
              "    }\n",
              "    60% {\n",
              "      border-color: transparent;\n",
              "      border-right-color: var(--fill-color);\n",
              "    }\n",
              "    80% {\n",
              "      border-color: transparent;\n",
              "      border-right-color: var(--fill-color);\n",
              "      border-bottom-color: var(--fill-color);\n",
              "    }\n",
              "    90% {\n",
              "      border-color: transparent;\n",
              "      border-bottom-color: var(--fill-color);\n",
              "    }\n",
              "  }\n",
              "</style>\n",
              "\n",
              "      <script>\n",
              "        async function quickchart(key) {\n",
              "          const quickchartButtonEl =\n",
              "            document.querySelector('#' + key + ' button');\n",
              "          quickchartButtonEl.disabled = true;  // To prevent multiple clicks.\n",
              "          quickchartButtonEl.classList.add('colab-df-spinner');\n",
              "          try {\n",
              "            const charts = await google.colab.kernel.invokeFunction(\n",
              "                'suggestCharts', [key], {});\n",
              "          } catch (error) {\n",
              "            console.error('Error during call to suggestCharts:', error);\n",
              "          }\n",
              "          quickchartButtonEl.classList.remove('colab-df-spinner');\n",
              "          quickchartButtonEl.classList.add('colab-df-quickchart-complete');\n",
              "        }\n",
              "        (() => {\n",
              "          let quickchartButtonEl =\n",
              "            document.querySelector('#df-bf8ccce9-9a8d-4440-8878-fb61b831d14d button');\n",
              "          quickchartButtonEl.style.display =\n",
              "            google.colab.kernel.accessAllowed ? 'block' : 'none';\n",
              "        })();\n",
              "      </script>\n",
              "    </div>\n",
              "\n",
              "    </div>\n",
              "  </div>\n"
            ],
            "application/vnd.google.colaboratory.intrinsic+json": {
              "type": "dataframe",
              "summary": "{\n  \"name\": \"# 1 -> AI\",\n  \"rows\": 5,\n  \"fields\": [\n    {\n      \"column\": \"text\",\n      \"properties\": {\n        \"dtype\": \"string\",\n        \"num_unique_values\": 5,\n        \"samples\": [\n          \"Transportation is a large necessity in most countries worldwide. With no doubt, cars, buses, and other means of transportation make going from place to place easier and faster. However there's always a negative pollution. Although mobile transportation are a huge part of daily lives, we are endangering the Earth with harmful greenhouse gases, which could be suppressed.\\n\\nA small suburb community in Germany called Vauban, has started a \\\"carfree\\\" lifestyle. In this city, markets and stores are placed nearby homes, instead of being located by farend highways. Although Vauban is not completely carfree, 70% of Vauban families do not own cars Even a large 57% of families stated to have sold their cars to move to Vauban. Some families have even said to be less stressed depending on car transportation. Cars are responsible for about 12% of greenhouse gases, and can even be up to 50% in some carintensive areas in the United States.\\n\\nAnother insight to reduced car zones brings Paris' incident with smog. Paris' officials created a system that would in fact lower smog rates. On Monday, the motorists with evennumbered license plates numbers would be ordered to leave their cars at home, or they would suffer a fine. Same rule would occur on Tuesday, except motorists with oddnumbered license plates were targeted with fines. Congestion, or traffic, was reduced by 60% after five days of intense smog. Diesel fuel played a huge part in this pollution, having the fact that 67% of vehicles in France are of Diesel fuel. The impact of the clearing of smog, resided in banning the Tuesday rule of odd license plates.\\n\\nCould you imagine a day without seeing a single car being used? This phenomenon occurs once a year in Bogota, Colombia. With the exception of buses and taxis being used, cars are to be left unattended for an entire day. Having a carfree day just once a year can even reduce the pollution slightly. The day without cars is part of a campaign that originated in Bogota in the mid 1990s. This campaign has renewed and constructed numerous bicycle paths and sidewalks all over the city. Parks and sports centers have also sprung from this campaign. Devoting your time to a carfree lifestyle has it's hassles, but in hindsight, it has it's benefits.\\n\\nTo conclude, living a carfree lifestyle does not seem like a possibility in this day and age, however managing the use of cars and pollution is something every country should take time investing in. Think about how much of an impact it would be if everywhere worldwide would take part in airpollution reduction. Mobile transportation is lifestyle in a sense, and being dependent on cars or other means of transportation can impact the health of the Earth and even ourselves.\",\n          \"Cars are a wonderful thing. They are perhaps one of the worlds greatest advancements and technologies. Cars get us from point a to point i. That is exactly what we want isnt it? We as humans want to get from one place to anther as fast as possiile. Cars are a suitaile to do that. They get us across the city in a matter of minutes. Much faster than anyhting else we have. A train isnt going to get me across the city as fast as my car is and neither is a puilic ius, iut those other forms of transportation just might ie the way to go. Don't get me wrong, cars are an aisolutly amazing thing iut, mayie they just cause way to much stress, and mayie they hurt our environment in ways that we don't think they will. With a ius or a train you do not have to worry aiout washing your car or getting frustrated when stuck in a iad traffic jam on I4. Also there is not as much pollution in air hurting our environment. You might not think so, iut there are many advantages to limiting our car usage.\\n\\nOne advantage that not only humans would ienefit from, iut also plants and animals is that there would ie a lot less pollution in the air hurting out environment. Right now our cars give off gases that are extremely harmful towards our environment. These gases are called green house gases and come out of the exhaust pipes in our cars. Your car alone docent give off much gas iut collectively, our cars give off enormous amounts of gases. This is especially true in iig cities like France. In France, their pollution level was so high it was record ireaking. due to that france decided to enforce a partial ian on cars. This is descriied in the second article \\\" Paris ians driving due to smog\\\", iy Roiert Duffer, \\\" On Monday motorists with evennumiered license plates were orderd to leave their cars at home or suffer a 22euro fine 31. The same would apply to oddnumiered plates the following day.\\\" After France limited driving there congestion was down iy 60 percent. \\\" Congestion was down 60 percent in the capital of France\\\". So after five days of intense smog, 60 percent of it was clear after not using cars for only a little while. Even across the world in Bogota, columiia they are limiting driving and reducing smog levels. In the third article \\\"carfree day is spinning into a iig hit in Bogota\\\", iy Andrew Selsky, it descriies the annual carfree day they have to reduce smog. \\\" the goal is to promote alternative transportation and reduce smog\\\". So all over the world people are relizing that without cars, we are insuring the safety and well ieing of our environment.\\n\\nThe second advantage that would come with limiting car use is less stress. Everyone knows that driving a car causes emence amounts of stress. Getting caught in traffic is a major cause of stress in someones life. having to repeating wash your car just to get it dirt again causes stress. Having people in the iack of your car screaming and yelling all while music is ilasting, causes stress. So oiviously driving causes stress. If we were to limit our car usage we would not ie as stressed as we usually are. There would ie no traffic, no car washes and no one screaming in a small confineded space. In the first article \\\" In German Suiuri, life goes on without cars\\\", iy Elisaieth Rosenthal, a citizen named humdrum Walter, states \\\" When i had a car i was always tense. I'm much happier this way\\\". So with out the stress of a car humdrum Walter is a looser and happier person, less stress equals happier person. In the third article, \\\" Carfree dai is spinning into a iig hit in Bogota\\\", iy Andrew Selsky, it states \\\" It's a good opportunity to take away stress...\\\". If we have the opportunity to take away stress, why not take it. It is a huge advantage in our lives to limit driving if it takes away stress. No one wants stress, no one needs stress, and if we have an opportunity to take some of the stress away, take that opportunity.\\n\\nIn conclusion, there are many advantages to limiting car use, one ieing theat we get to help the environment and two ieing that it helps reduce stress. Our environment is already screwed up in so many ways, if we can help it to iecome the healthy environment it once was, then do it. Stress is proven to impare your personal health, no one wants to ie unhealthy and no one wants stress in their life. If you want the environment to get ietter and you want to reduce stress in your life then take this advantage and impliment it. Some might not think that this is an advantage, iut i just explained that it is a clear advantege that has ieen proved to help the enviornment and reduce stress. Limiting car use is a very effective advantage that really does work in more than one place.\",\n          \"\\\"America's love affair with it's vehicles seems to be cooling\\\" says Elisabeth rosenthal. To understand rosenthal's perspective, it is easier to suggest that America's car usage is decreasing slowly. This isn't necessarily bad in the sense that it has certain positive effects. The advantages of limiting car usage includes an increase in security and health, along with a decrease in pollution and dependence.\\n\\nFirstly, when car usage is limited security and health is more likely to be guaranteed. The feeling of being secure is highly important to individuals everywhere. For example, many people in colombia used public transportation during a car free day \\\"leaving the streets of this capital city \\\", according to Andrew Selsky, \\\"eerily devoid of traffic jams\\\". The complications that stem from traffic jams end with a feeling of confidence. The plan to get from point A to B was more simple just a second ago. This complication in your personal plans leads you to become stressed as a feeling of doubt overcomes all thoughts. If car usage was limited, there would be a control on how much traffic accumulates thus minimizing chance of stress. As Heidrun Walter states \\\"when i had a car i was always tense. I'm much happier this way\\\". not only does car usage minimize conditions detrimental to health, it also enlarges your capacity for exercise. The main purpose of the car is to get someone from one place to another. when an important job takes over your personal life, it becomes difficult to do things most enjoyed in life. limits on car usage forces you to stay in shape. According to Andrew Selsky \\\"parks and sports centers also have bloomed throughout the city\\\". Less cars means healthier and natural situations. With parks and sport centers becoming more efficient, it becomes easier to find a more physically active population. Overall, less usage on cars minimizes stress and increases health.\\n\\nSecondly, limting car usage becomes beneficial to the environment. Now a days people have become annoyed with others who care so passionately about the environment. If you look behind their constant cries for action, there are solid facts. Yespollution is bad for the environment. Yes a bad envorment means unhealthy living. Yes cars are one of the main contributors to pollution in the environment. A pattern of less car usage, as Elisabeth Rosenthal states \\\"will have beneficial implications for carbon emissions and the environment\\\". The less use of cars, the less pollution in the environment. One must observe limiting car usage as an opportunity to create a cleaner world and better future. The effects of pollution in the environment is completley dangerous and we, the car users, are to blame.\\n\\nAdditionally, it would lower the dependence on cars. Many people today find that their car is so useful. While it has many features and is a form of transportation, many do not figure what they would do if they did not have such a possesion. The development of people and their interaction with technology has left a wide gap between historic, natural ways and what is thought of as modern society. Being dependent is not always good for individuals. As david goldberg says \\\"all our development since world war II has been centered on the car, and that will have to change\\\". Many people could disagree and wonder why it is necessary to change our ways especially if we are so highly devloped. If being developed means being dependent on a harmful machine, then it could not be effective devlopment. According to Elisabeth Rosenthal \\\"cashstrapped americans could not afford new cars, and the unemployed were't going to work anyway\\\". Many people can't have the precious luxury of private transportation in the first place. Those who have had it have become distant to a more natural society. Peope have become so use to having cars that they have become oblivious to the significant effects. With limits on car usage , these effcts could be controlled.\\n\\nTo conclude, the advantages of limiting car usage is an increase in health, along with a decrease in pollution, and less dependence on cars. limiting car usage is a positive way to enfore an organized and clean environment, and ensure health and security of those who live in it. This is one reason America can be reffered to as a succesful country. It is not that America has decreased use of vehicles, but the fact that they have done what is best for majority.\"\n        ],\n        \"semantic_type\": \"\",\n        \"description\": \"\"\n      }\n    },\n    {\n      \"column\": \"generated\",\n      \"properties\": {\n        \"dtype\": \"number\",\n        \"std\": 0.0,\n        \"min\": 0.0,\n        \"max\": 0.0,\n        \"num_unique_values\": 1,\n        \"samples\": [\n          0.0\n        ],\n        \"semantic_type\": \"\",\n        \"description\": \"\"\n      }\n    }\n  ]\n}"
            }
          },
          "metadata": {},
          "execution_count": 2
        }
      ]
    },
    {
      "cell_type": "markdown",
      "source": [
        "# EDA"
      ],
      "metadata": {
        "id": "SaXk4zdJkEgp"
      }
    },
    {
      "cell_type": "code",
      "source": [
        "df = df.rename(columns={'generated': 'labels'})"
      ],
      "metadata": {
        "id": "kbwYcoI6ouSV"
      },
      "execution_count": null,
      "outputs": []
    },
    {
      "cell_type": "code",
      "source": [
        "import numpy as np\n",
        "import matplotlib.pyplot as plt\n",
        "import seaborn as sns\n",
        "import re\n",
        "import nltk\n",
        "from sklearn.model_selection import train_test_split\n",
        "\n",
        "nltk.download('stopwords')\n",
        "from nltk.corpus import stopwords\n",
        "stop_words = set(stopwords.words('english'))"
      ],
      "metadata": {
        "colab": {
          "base_uri": "https://localhost:8080/"
        },
        "id": "X9cscE76j7_Y",
        "outputId": "d5dfdf09-0315-4112-e51c-3577bdc7c355"
      },
      "execution_count": null,
      "outputs": [
        {
          "output_type": "stream",
          "name": "stderr",
          "text": [
            "[nltk_data] Downloading package stopwords to /root/nltk_data...\n",
            "[nltk_data]   Unzipping corpora/stopwords.zip.\n"
          ]
        }
      ]
    },
    {
      "cell_type": "markdown",
      "source": [
        "Dataset basic info"
      ],
      "metadata": {
        "id": "b4ndfSt5kvBw"
      }
    },
    {
      "cell_type": "code",
      "source": [
        "print(\"\\n--- Basic info ---\")\n",
        "df.info()\n",
        "\n",
        "print(\"\\n--- Missing value detection ---\")\n",
        "print(df.isnull().sum())\n",
        "\n",
        "print(\"\\n--- Duplicate value detection ---\")\n",
        "print(f\"Duplicate number: {df.duplicated().sum()}\")"
      ],
      "metadata": {
        "colab": {
          "base_uri": "https://localhost:8080/"
        },
        "id": "Hz0fy1GbkObl",
        "outputId": "75e459a6-7e94-4de8-b719-cbdc69e324e0"
      },
      "execution_count": null,
      "outputs": [
        {
          "output_type": "stream",
          "name": "stdout",
          "text": [
            "\n",
            "--- Basic info ---\n",
            "<class 'pandas.core.frame.DataFrame'>\n",
            "RangeIndex: 487235 entries, 0 to 487234\n",
            "Data columns (total 2 columns):\n",
            " #   Column  Non-Null Count   Dtype  \n",
            "---  ------  --------------   -----  \n",
            " 0   text    487235 non-null  object \n",
            " 1   labels  487235 non-null  float64\n",
            "dtypes: float64(1), object(1)\n",
            "memory usage: 7.4+ MB\n",
            "\n",
            "--- Missing value detection ---\n",
            "text      0\n",
            "labels    0\n",
            "dtype: int64\n",
            "\n",
            "--- Duplicate value detection ---\n",
            "Duplicate number: 0\n"
          ]
        }
      ]
    },
    {
      "cell_type": "code",
      "source": [
        "label_col = 'labels'\n",
        "\n",
        "print(\"\\n--- Category Statistics ---\")\n",
        "print(df[label_col].value_counts())"
      ],
      "metadata": {
        "colab": {
          "base_uri": "https://localhost:8080/"
        },
        "id": "wHXrxTutlNmR",
        "outputId": "d4fe795c-7674-4b40-8b83-e04f7f4d49dd"
      },
      "execution_count": null,
      "outputs": [
        {
          "output_type": "stream",
          "name": "stdout",
          "text": [
            "\n",
            "--- Category Statistics ---\n",
            "labels\n",
            "0.0    305797\n",
            "1.0    181438\n",
            "Name: count, dtype: int64\n"
          ]
        }
      ]
    },
    {
      "cell_type": "markdown",
      "source": [
        "Label Distribution"
      ],
      "metadata": {
        "id": "dXA9iQo7lbr3"
      }
    },
    {
      "cell_type": "code",
      "source": [
        "plt.figure(figsize=(5,4))\n",
        "sns.countplot(data=df, x=label_col, palette=\"coolwarm\")\n",
        "plt.title(\"Distribution of Text Source (AI vs Human)\")\n",
        "plt.xlabel(\"Label\")\n",
        "plt.ylabel(\"Count\")\n",
        "plt.show()"
      ],
      "metadata": {
        "colab": {
          "base_uri": "https://localhost:8080/"
        },
        "id": "c8G-1uB6lVTm",
        "outputId": "351eff13-bbc2-4335-95c0-3004710b57fe"
      },
      "execution_count": null,
      "outputs": [
        {
          "output_type": "stream",
          "name": "stderr",
          "text": [
            "/tmp/ipython-input-607896369.py:2: FutureWarning: \n",
            "\n",
            "Passing `palette` without assigning `hue` is deprecated and will be removed in v0.14.0. Assign the `x` variable to `hue` and set `legend=False` for the same effect.\n",
            "\n",
            "  sns.countplot(data=df, x=label_col, palette=\"coolwarm\")\n"
          ]
        },
        {
          "output_type": "display_data",
          "data": {
            "text/plain": [
              "<Figure size 500x400 with 1 Axes>"
            ],
            "image/png": "[encoded data removed]"
          },
          "metadata": {}
        }
      ]
    },
    {
      "cell_type": "markdown",
      "source": [
        "Text Length Distribution\n"
      ],
      "metadata": {
        "id": "5tcZdB4plgeO"
      }
    },
    {
      "cell_type": "code",
      "source": [
        "text_col = 'text'\n",
        "df['text_length'] = df[text_col].apply(lambda x: len(str(x).split()))\n",
        "\n",
        "plt.figure(figsize=(8,4))\n",
        "sns.histplot(df['text_length'], bins=50, kde=True, color='teal')\n",
        "plt.title(\"Distribution of Text Lengths\")\n",
        "plt.xlabel(\"Number of Words\")\n",
        "plt.ylabel(\"Frequency\")\n",
        "plt.show()\n",
        "\n",
        "print(\"\\nAverage text length:\", round(df['text_length'].mean(), 2))\n",
        "print(\"Maximum text length:\", df['text_length'].max())"
      ],
      "metadata": {
        "colab": {
          "base_uri": "https://localhost:8080/"
        },
        "id": "aTDWrqgClfFn",
        "outputId": "27ae6557-2b0b-4c55-abb7-831fe9438853"
      },
      "execution_count": null,
      "outputs": [
        {
          "output_type": "display_data",
          "data": {
            "text/plain": [
              "<Figure size 800x400 with 1 Axes>"
            ],
            "image/png": "[encoded data removed]"
          },
          "metadata": {}
        },
        {
          "output_type": "stream",
          "name": "stdout",
          "text": [
            "\n",
            "Average text length: 393.1\n",
            "Maximum text length: 1668\n"
          ]
        }
      ]
    },
    {
      "cell_type": "code",
      "source": [
        "print(df.groupby(label_col)['text_length'].describe())"
      ],
      "metadata": {
        "colab": {
          "base_uri": "https://localhost:8080/"
        },
        "id": "nmmoCJmImkcd",
        "outputId": "9935f668-ef95-408b-cd01-285fac40af33"
      },
      "execution_count": null,
      "outputs": [
        {
          "output_type": "stream",
          "name": "stdout",
          "text": [
            "           count       mean         std   min    25%    50%    75%     max\n",
            "labels                                                                    \n",
            "0.0     305797.0  421.98518  186.870962  14.0  281.0  389.0  520.0  1668.0\n",
            "1.0     181438.0  344.40653  117.031491   0.0  274.0  337.0  403.0  1238.0\n"
          ]
        }
      ]
    },
    {
      "cell_type": "markdown",
      "source": [
        "# Preprocessing"
      ],
      "metadata": {
        "id": "f5axVK5Ul7gU"
      }
    },
    {
      "cell_type": "code",
      "source": [
        "def clean_text(text):\n",
        "    text = str(text).lower()\n",
        "    text = re.sub(r\"http\\S+|www\\S+|https\\S+\", '', text)\n",
        "    text = re.sub(r\"[^a-zA-Z\\s]\", '', text)\n",
        "    text = re.sub(r\"\\s+\", ' ', text).strip()\n",
        "    tokens = [word for word in text.split() if word not in stop_words]\n",
        "    return \" \".join(tokens)\n",
        "\n",
        "df['clean_text'] = df[text_col].apply(clean_text)\n",
        "\n",
        "# print(\"\\n\u539f\u59cb\u6587\u672c\u793a\u4f8b:\\n\", df[text_col].iloc[0])\n",
        "# print(\"\\n\u6e05\u6d17\u540e\u6587\u672c\u793a\u4f8b:\\n\", df['clean_text'].iloc[0])"
      ],
      "metadata": {
        "id": "kHhluT0Jl-C0"
      },
      "execution_count": null,
      "outputs": []
    },
    {
      "cell_type": "markdown",
      "source": [
        "# Data split"
      ],
      "metadata": {
        "id": "9MYjEJ6imNEK"
      }
    },
    {
      "cell_type": "code",
      "source": [
        "train_df, temp_df = train_test_split(df, test_size=0.3, random_state=42, stratify=df[label_col])\n",
        "val_df, test_df = train_test_split(temp_df, test_size=0.5, random_state=42, stratify=temp_df[label_col])\n",
        "\n",
        "print(\"\\n--- Results of dataset split ---\")\n",
        "print(f\"train: {train_df.shape}, val: {val_df.shape}, test: {test_df.shape}\")\n",
        "\n",
        "sizes = [len(train_df), len(val_df), len(test_df)]\n",
        "labels = ['Train', 'Validation', 'Test']\n",
        "plt.figure(figsize=(5,5))\n",
        "plt.pie(sizes, labels=labels, autopct='%1.1f%%', colors=['#66b3ff','#99ff99','#ffcc99'])\n",
        "plt.title(\"Dataset Split\")\n",
        "plt.show()"
      ],
      "metadata": {
        "colab": {
          "base_uri": "https://localhost:8080/"
        },
        "id": "5TwLYBIDmPU4",
        "outputId": "cdc143e2-15af-4612-af35-7a4297e4f69b"
      },
      "execution_count": null,
      "outputs": [
        {
          "output_type": "stream",
          "name": "stdout",
          "text": [
            "\n",
            "--- Results of dataset split ---\n",
            "train: (341064, 4), val: (73085, 4), test: (73086, 4)\n"
          ]
        },
        {
          "output_type": "display_data",
          "data": {
            "text/plain": [
              "<Figure size 500x500 with 1 Axes>"
            ],
            "image/png": "[encoded data removed]"
          },
          "metadata": {}
        }
      ]
    },
    {
      "cell_type": "markdown",
      "source": [
        "# Model"
      ],
      "metadata": {
        "id": "ifL9JJNsmnP3"
      }
    },
    {
      "cell_type": "code",
      "source": [
        "!pip install -q transformers datasets evaluate accelerate\n",
        "\n",
        "import pandas as pd\n",
        "import numpy as np\n",
        "import torch\n",
        "from datasets import Dataset\n",
        "from transformers import (\n",
        "    AutoTokenizer,\n",
        "    AutoModelForSequenceClassification,\n",
        "    TrainingArguments,\n",
        "    Trainer\n",
        ")\n",
        "import evaluate\n",
        "from sklearn.metrics import classification_report"
      ],
      "metadata": {
        "colab": {
          "base_uri": "https://localhost:8080/"
        },
        "id": "--aWwoCSmxcL",
        "outputId": "1a8a5a70-bfc5-4f86-9c27-f2868a950c7b"
      },
      "execution_count": null,
      "outputs": [
        {
          "output_type": "stream",
          "name": "stdout",
          "text": [
            "\u001b[?25l   \u001b[90m\u2501\u2501\u2501\u2501\u2501\u2501\u2501\u2501\u2501\u2501\u2501\u2501\u2501\u2501\u2501\u2501\u2501\u2501\u2501\u2501\u2501\u2501\u2501\u2501\u2501\u2501\u2501\u2501\u2501\u2501\u2501\u2501\u2501\u2501\u2501\u2501\u2501\u2501\u2501\u2501\u001b[0m \u001b[32m0.0/84.1 kB\u001b[0m \u001b[31m?\u001b[0m eta \u001b[36m-:--:--\u001b[0m\r\u001b[2K   \u001b[90m\u2501\u2501\u2501\u2501\u2501\u2501\u2501\u2501\u2501\u2501\u2501\u2501\u2501\u2501\u2501\u2501\u2501\u2501\u2501\u2501\u2501\u2501\u2501\u2501\u2501\u2501\u2501\u2501\u2501\u2501\u2501\u2501\u2501\u2501\u2501\u2501\u2501\u2501\u2501\u2501\u001b[0m \u001b[32m84.1/84.1 kB\u001b[0m \u001b[31m4.5 MB/s\u001b[0m eta \u001b[36m0:00:00\u001b[0m\n",
            "\u001b[?25h"
          ]
        }
      ]
    },
    {
      "cell_type": "code",
      "source": [
        "train_ds = Dataset.from_pandas(train_df[['clean_text','labels']])\n",
        "val_ds = Dataset.from_pandas(val_df[['clean_text','labels']])\n",
        "test_ds = Dataset.from_pandas(test_df[['clean_text','labels']])"
      ],
      "metadata": {
        "id": "ttX7p7ESq7kO"
      },
      "execution_count": null,
      "outputs": []
    },
    {
      "cell_type": "markdown",
      "source": [
        "Define Evaluation Metrics"
      ],
      "metadata": {
        "id": "F068nxodrG3q"
      }
    },
    {
      "cell_type": "code",
      "source": [
        "accuracy = evaluate.load(\"accuracy\")\n",
        "f1 = evaluate.load(\"f1\")\n",
        "\n",
        "def compute_metrics(eval_pred):\n",
        "    logits, labels = eval_pred\n",
        "    preds = np.argmax(logits, axis=-1)\n",
        "    return {\n",
        "        \"accuracy\": accuracy.compute(predictions=preds, references=labels)['accuracy'],\n",
        "        \"f1\": f1.compute(predictions=preds, references=labels, average='macro')['f1']\n",
        "    }"
      ],
      "metadata": {
        "colab": {
          "base_uri": "https://localhost:8080/",
          "height": 210,
          "referenced_widgets": [
            "ac89a91661b348bfb0d4efb246c4e108",
            "8f1df7b3eb0742128043a1870d4e0518",
            "027c09d2e3194fad8609b6f422c79c80",
            "b074bc2f22214764b0dac09caa69d3e2",
            "ce81d7eeab894c4ca675144bebe91c6b",
            "6a8aaa6e44f84969bbbc6c38178a8c6e",
            "4c57f884191b46c9aac77db9a3aae1d2",
            "c8aae24c776d4000a8f266945d1311dd",
            "bbafde0de861404dab1c96d3208d42c7",
            "1f7c1ab030dd4a04a23717e8350fd541",
            "293e45df9ea344b782e7086f54c54c0b",
            "41ec56122ed94b0caddd0b2e128ce506",
            "98992abad11040ab944d272255afbbea",
            "4c52b13b5359410db80d87b8f96b3cfa",
            "01bb8ee5c5e348fea69c2159e3b2a30b",
            "e763bd7ff2c04bd1890363b533f054a9",
            "7365340b4ef549fdb90880052f4e39ba",
            "a4b6399ba57d4adc8fcf5243213e8412",
            "cbd8eee4a85a4c7d82de48b28cf32bb8",
            "c2a6312937a64f5ca189a6c9378aa980",
            "1822a69804b04c0b8635cf1d026c8dbd",
            "9a5d09617ae24a3abc977da5bf8e88b5"
          ]
        },
        "id": "vgV1oyK3rGOm",
        "outputId": "1da946d2-5412-485a-d4cc-9162ced6b96b"
      },
      "execution_count": null,
      "outputs": [
        {
          "output_type": "stream",
          "name": "stderr",
          "text": [
            "/usr/local/lib/python3.12/dist-packages/huggingface_hub/utils/_auth.py:94: UserWarning: \n",
            "The secret `HF_TOKEN` does not exist in your Colab secrets.\n",
            "To authenticate with the Hugging Face Hub, create a token in your settings tab (https://huggingface.co/settings/tokens), set it as secret in your Google Colab and restart your session.\n",
            "You will be able to reuse this secret in all of your notebooks.\n",
            "Please note that authentication is recommended but still optional to access public models or datasets.\n",
            "  warnings.warn(\n"
          ]
        },
        {
          "output_type": "display_data",
          "data": {
            "text/plain": [
              "Downloading builder script: 0.00B [00:00, ?B/s]"
            ],
            "application/vnd.jupyter.widget-view+json": {
              "version_major": 2,
              "version_minor": 0,
              "model_id": "ac89a91661b348bfb0d4efb246c4e108"
            }
          },
          "metadata": {}
        },
        {
          "output_type": "display_data",
          "data": {
            "text/plain": [
              "Downloading builder script: 0.00B [00:00, ?B/s]"
            ],
            "application/vnd.jupyter.widget-view+json": {
              "version_major": 2,
              "version_minor": 0,
              "model_id": "41ec56122ed94b0caddd0b2e128ce506"
            }
          },
          "metadata": {}
        }
      ]
    },
    {
      "cell_type": "markdown",
      "source": [
        "Define Train function"
      ],
      "metadata": {
        "id": "sbLYeqo8sX5M"
      }
    },
    {
      "cell_type": "code",
      "source": [
        "import torch\n",
        "from torch.utils.data import DataLoader\n",
        "from transformers import AutoTokenizer, AutoModelForSequenceClassification, get_linear_schedule_with_warmup\n",
        "from torch.optim import AdamW\n",
        "from sklearn.metrics import accuracy_score\n",
        "import matplotlib.pyplot as plt\n",
        "\n",
        "device = torch.device(\"cuda\" if torch.cuda.is_available() else \"cpu\")\n",
        "\n",
        "model_names = {\n",
        "    \"bert\": \"bert-base-uncased\",\n",
        "    \"deberta\": \"microsoft/deberta-v3-base\",\n",
        "    \"DistilBERT\": \"distilbert-base-uncased\",\n",
        "    \"MiniDeBERTa\": \"microsoft/deberta-v3-small\"\n",
        "}\n",
        "\n",
        "num_labels = 2\n",
        "num_epochs = 3\n",
        "batch_size = 4\n",
        "learning_rate = 2e-5"
      ],
      "metadata": {
        "id": "yPoXOy6Zu4vr"
      },
      "execution_count": null,
      "outputs": []
    },
    {
      "cell_type": "code",
      "source": [
        "train_dataset_small = train_ds.shuffle(seed=42).select(range(int(0.01 * len(train_ds))))\n",
        "val_dataset_small = val_ds.shuffle(seed=42).select(range(int(0.01 * len(val_ds))))\n",
        "print(f\"use {len(train_dataset_small)} train samples and {len(val_dataset_small)} val samples\")\n",
        "train_loader = DataLoader(train_dataset_small, batch_size=batch_size, shuffle=True)\n",
        "val_loader = DataLoader(val_dataset_small, batch_size=batch_size)"
      ],
      "metadata": {
        "colab": {
          "base_uri": "https://localhost:8080/"
        },
        "id": "tueMhTT7vIFE",
        "outputId": "dabf3778-5529-4217-9947-5af7793a820f"
      },
      "execution_count": null,
      "outputs": [
        {
          "output_type": "stream",
          "name": "stdout",
          "text": [
            "use 3410 train samples and 730 val samples\n"
          ]
        }
      ]
    },
    {
      "cell_type": "code",
      "source": [
        "def train_model(model_name):\n",
        "    print(f\"\\n===== Training {model_name} =====\")\n",
        "    tokenizer = AutoTokenizer.from_pretrained(model_names[model_name])\n",
        "    model = AutoModelForSequenceClassification.from_pretrained(model_names[model_name], num_labels=num_labels).to(device)\n",
        "\n",
        "    optimizer = AdamW(model.parameters(), lr=learning_rate)\n",
        "    total_steps = len(train_loader) * num_epochs\n",
        "    scheduler = get_linear_schedule_with_warmup(optimizer, num_warmup_steps=0, num_training_steps=total_steps)\n",
        "\n",
        "    train_losses, val_losses = [], []\n",
        "    train_accs, val_accs = [], []\n",
        "\n",
        "    for epoch in range(num_epochs):\n",
        "        model.train()\n",
        "        total_train_loss, total_train_acc = 0, 0\n",
        "        for batch in train_loader:\n",
        "            # Tokenize the text data\n",
        "            inputs = tokenizer(batch['clean_text'], padding=True, truncation=True, return_tensors=\"pt\").to(device)\n",
        "            # Ensure labels are of type torch.long\n",
        "            inputs['labels'] = batch['labels'].long().to(device)\n",
        "\n",
        "            optimizer.zero_grad()\n",
        "            outputs = model(**inputs)\n",
        "            loss = outputs.loss\n",
        "            logits = outputs.logits\n",
        "            loss.backward()\n",
        "            optimizer.step()\n",
        "            scheduler.step()\n",
        "\n",
        "            total_train_loss += loss.item()\n",
        "            preds = torch.argmax(logits, dim=1)\n",
        "            total_train_acc += accuracy_score(inputs[\"labels\"].cpu(), preds.cpu())\n",
        "\n",
        "        avg_train_loss = total_train_loss / len(train_loader)\n",
        "        avg_train_acc = total_train_acc / len(train_loader)\n",
        "        train_losses.append(avg_train_loss)\n",
        "        train_accs.append(avg_train_acc)\n",
        "\n",
        "        model.eval()\n",
        "        total_val_loss, total_val_acc = 0, 0\n",
        "        with torch.no_grad():\n",
        "            for batch in val_loader:\n",
        "                # Tokenize the text data\n",
        "                inputs = tokenizer(batch['clean_text'], padding=True, truncation=True, return_tensors=\"pt\").to(device)\n",
        "                # Ensure labels are of type torch.long\n",
        "                inputs['labels'] = batch['labels'].long().to(device)\n",
        "\n",
        "                outputs = model(**inputs)\n",
        "                loss = outputs.loss\n",
        "                logits = outputs.logits\n",
        "\n",
        "                total_val_loss += loss.item()\n",
        "                preds = torch.argmax(logits, dim=1)\n",
        "                total_val_acc += accuracy_score(inputs[\"labels\"].cpu(), preds.cpu())\n",
        "\n",
        "        avg_val_loss = total_val_loss / len(val_loader)\n",
        "        avg_val_acc = total_val_acc / len(val_loader)\n",
        "        val_losses.append(avg_val_loss)\n",
        "        val_accs.append(avg_val_acc)\n",
        "\n",
        "        print(f\"Epoch {epoch+1}/{num_epochs} | \"\n",
        "              f\"Train Loss: {avg_train_loss:.4f} | Val Loss: {avg_val_loss:.4f} | \"\n",
        "              f\"Train Acc: {avg_train_acc:.4f} | Val Acc: {avg_val_acc:.4f}\")\n",
        "\n",
        "    if num_epochs > 0: # Check if there is data to plot\n",
        "        epochs = range(1, num_epochs + 1)\n",
        "        plt.figure(figsize=(10, 4))\n",
        "        plt.subplot(1, 2, 1)\n",
        "        if num_epochs == 1: # Plot as points for a single epoch\n",
        "            plt.plot(epochs, train_losses, 'bo', label='Train Loss')\n",
        "            plt.plot(epochs, val_losses, 'ro', label='Val Loss')\n",
        "        else: # Plot as lines for multiple epochs\n",
        "            plt.plot(epochs, train_losses, 'b-', label='Train Loss')\n",
        "            plt.plot(epochs, val_losses, 'r-', label='Val Loss')\n",
        "        plt.title(f'{model_name.upper()} Loss vs Epoch')\n",
        "        plt.xlabel('Epoch')\n",
        "        plt.ylabel('Loss')\n",
        "        plt.legend()\n",
        "\n",
        "        plt.subplot(1, 2, 2)\n",
        "        if num_epochs == 1: # Plot as points for a single epoch\n",
        "            plt.plot(epochs, train_accs, 'bo', label='Train Acc')\n",
        "            plt.plot(epochs, val_accs, 'ro', label='Val Acc')\n",
        "        else: # Plot as lines for multiple epochs\n",
        "            plt.plot(epochs, train_accs, 'b-', label='Train Acc')\n",
        "            plt.plot(epochs, val_accs, 'r-', label='Val Acc')\n",
        "        plt.title(f'{model_name.upper()} Accuracy vs Epoch')\n",
        "        plt.xlabel('Epoch')\n",
        "        plt.ylabel('Accuracy')\n",
        "        plt.legend()\n",
        "        plt.tight_layout()\n",
        "        plt.show()\n",
        "        plt.close() # Close the plot after showing\n",
        "\n",
        "    return {\n",
        "        \"train_loss\": train_losses,\n",
        "        \"val_loss\": val_losses,\n",
        "        \"train_acc\": train_accs,\n",
        "        \"val_acc\": val_accs\n",
        "    }"
      ],
      "metadata": {
        "id": "gj6-3jzRve_Z"
      },
      "execution_count": null,
      "outputs": []
    },
    {
      "cell_type": "markdown",
      "source": [
        "# Train & Evaluate"
      ],
      "metadata": {
        "id": "ifC6A6rvr1Qo"
      }
    },
    {
      "cell_type": "code",
      "source": [
        "bert_result = train_model(\"DistilBERT\")"
      ],
      "metadata": {
        "colab": {
          "base_uri": "https://localhost:8080/",
          "height": 714,
          "referenced_widgets": [
            "6ccf4daffd5e45ada4a3c593c3e7df20",
            "a3e1da403c784543a9cbe4804de5d3d2",
            "9b800ac2aa9c4c75bed948721ab0aa5c",
            "57b55225351a42dc9e11418b54ee53cd",
            "16366c14395d47d08a012e38b82a6533",
            "60a357aa7f004a668fef8004cbf6e58b",
            "322c3c7eec814a718531585c36c9b3cd",
            "6e4e2c0441bb4a9e873a45753d32107d",
            "3066bb1559dc4df58e083838105a14ef",
            "df132f734850477caac78c31a70dba37",
            "4d6bb2f200d042669da80e9108dead6d",
            "59ec5c2d840949568245ee2b464509a7",
            "97c0463d83434a8e83a4f69711b33bb5",
            "0ca0a7bc13a949008d361b9971648d51",
            "e0ec4c38a52846cb86304f73d08ac6eb",
            "1467adb318f547e98c82a27f880d16f5",
            "f279c6119afe459384394897ef64fb5a",
            "8c164c3d4a024993b983dc5cf4e70f98",
            "1718c4b5d4264be58c4e42d3ff433714",
            "5c49e42db21b4dbcbe7f220e9208e90e",
            "633bbf0280144161847d446c06d732a7",
            "4278297aca034e98975227814deef6cd",
            "045e40f29030470682fc14f05d950bed",
            "97396bd8e03d4830a346dfc6678776da",
            "c69f3deb98994b5abc77acd8f06d40ca",
            "14b7f027034a4443878247771aef10c6",
            "8bfb779baa354d6694bbd259dbd75ffe",
            "40f096b07b0d4dd5af8d2229f04229f4",
            "51b9d85afb304655ac19cc238ee8fee2",
            "32a8aa1ef94244a99d5fbe35dce21906",
            "635671cfa2034df085fcc2600a514e6a",
            "2b9f219a916d430a8a9759cea7665b95",
            "28a0bab5b95f4e15bde4548e5414d912",
            "472fe5a4f8864262800be204cdc882b3",
            "2c70e5dec55845c685849fae93be924a",
            "b6bf9b6490c040e6832524dae4ae372f",
            "0df80f66d282422787d909d09dfa37f2",
            "96cb63acaa424ebb88fdc2124239e1ad",
            "96aa75dbc759483d8846800ba5206b1b",
            "7e0cbaf800bb4d77a5d75f9f78b63183",
            "edb30502fbe14ceeaf7f4454e5515c7b",
            "39a34ab54db5436baa2f242939c9eea3",
            "b31b9c4c49b0419299aab91c5531d2a7",
            "3432fd9e52f648fa9bbb7be9c5664d0d",
            "0db32a0d21454cb6aaa955e642948446",
            "13ab5a96514a4aa1a128fc149c5746ad",
            "8e059bde9e444c16918e7a7082a5c8ea",
            "a2413ee569214e4aa3a492f455a0c975",
            "be7e4cac7f63422998e74d4c1980044b",
            "ef273478bc634b8eb07c0a40cd5ff5a2",
            "6e2af5b4ee88432ab7da23a58c557252",
            "d098b5336ce2485ba35d237d5ec33e02",
            "f273d5eecab74669985ba65b27026a4a",
            "cff5716231a440ce999ec41a4687bfb1",
            "2ea38dfe16f84c96be188937351402bb"
          ]
        },
        "id": "nTxWfsHnr3o-",
        "outputId": "89cbb143-ed38-444b-ac88-457ef85390ed"
      },
      "execution_count": null,
      "outputs": [
        {
          "output_type": "stream",
          "name": "stdout",
          "text": [
            "\n",
            "===== Training DistilBERT =====\n"
          ]
        },
        {
          "output_type": "display_data",
          "data": {
            "text/plain": [
              "tokenizer_config.json:   0%|          | 0.00/48.0 [00:00<?, ?B/s]"
            ],
            "application/vnd.jupyter.widget-view+json": {
              "version_major": 2,
              "version_minor": 0,
              "model_id": "6ccf4daffd5e45ada4a3c593c3e7df20"
            }
          },
          "metadata": {}
        },
        {
          "output_type": "display_data",
          "data": {
            "text/plain": [
              "config.json:   0%|          | 0.00/483 [00:00<?, ?B/s]"
            ],
            "application/vnd.jupyter.widget-view+json": {
              "version_major": 2,
              "version_minor": 0,
              "model_id": "59ec5c2d840949568245ee2b464509a7"
            }
          },
          "metadata": {}
        },
        {
          "output_type": "display_data",
          "data": {
            "text/plain": [
              "vocab.txt:   0%|          | 0.00/232k [00:00<?, ?B/s]"
            ],
            "application/vnd.jupyter.widget-view+json": {
              "version_major": 2,
              "version_minor": 0,
              "model_id": "045e40f29030470682fc14f05d950bed"
            }
          },
          "metadata": {}
        },
        {
          "output_type": "display_data",
          "data": {
            "text/plain": [
              "tokenizer.json:   0%|          | 0.00/466k [00:00<?, ?B/s]"
            ],
            "application/vnd.jupyter.widget-view+json": {
              "version_major": 2,
              "version_minor": 0,
              "model_id": "472fe5a4f8864262800be204cdc882b3"
            }
          },
          "metadata": {}
        },
        {
          "output_type": "display_data",
          "data": {
            "text/plain": [
              "model.safetensors:   0%|          | 0.00/268M [00:00<?, ?B/s]"
            ],
            "application/vnd.jupyter.widget-view+json": {
              "version_major": 2,
              "version_minor": 0,
              "model_id": "0db32a0d21454cb6aaa955e642948446"
            }
          },
          "metadata": {}
        },
        {
          "output_type": "stream",
          "name": "stderr",
          "text": [
            "Some weights of DistilBertForSequenceClassification were not initialized from the model checkpoint at distilbert-base-uncased and are newly initialized: ['classifier.bias', 'classifier.weight', 'pre_classifier.bias', 'pre_classifier.weight']\n",
            "You should probably TRAIN this model on a down-stream task to be able to use it for predictions and inference.\n"
          ]
        },
        {
          "output_type": "stream",
          "name": "stdout",
          "text": [
            "Epoch 1/3 | Train Loss: 0.2080 | Val Loss: 0.0914 | Train Acc: 0.9223 | Val Acc: 0.9713\n",
            "Epoch 2/3 | Train Loss: 0.0644 | Val Loss: 0.0803 | Train Acc: 0.9812 | Val Acc: 0.9768\n",
            "Epoch 3/3 | Train Loss: 0.0258 | Val Loss: 0.0884 | Train Acc: 0.9938 | Val Acc: 0.9740\n"
          ]
        },
        {
          "output_type": "display_data",
          "data": {
            "text/plain": [
              "<Figure size 1000x400 with 2 Axes>"
            ],
            "image/png": "[encoded data removed]"
          },
          "metadata": {}
        }
      ]
    },
    {
      "cell_type": "code",
      "source": [
        "deberta_result = train_model(\"MiniDeBERTa\")"
      ],
      "metadata": {
        "colab": {
          "base_uri": "https://localhost:8080/",
          "height": 769,
          "referenced_widgets": [
            "e49d9808a9f340e0879be01a7b215fb3",
            "33f5648b5fb24dff98d641d5a3a68f6e",
            "b463bc1c21884c19918ed3aeb0471240",
            "aa172e3591884c5cb951fb60bbb04096",
            "cf0f66aa86be4cc9bdb65b709f00deb0",
            "ac1776b4b5c949b1bb968f2f357e0405",
            "b745db19969141318b27a70f59566fa7",
            "78927291e37a4c4687cec47cb4d632eb",
            "550025febfd14791bd1ea7a1a4e95c21",
            "2d979f11905e451a9242de48ae7e2a9d",
            "8f0c26c0d6c04876a52cf07261a56954",
            "7be54362d62f45bd970d9cb20ece4f2e",
            "dfa5b98f872b4d61ac8dce49300310e1",
            "933f6cc2f76c4d3994126f01e92c3015",
            "13447a2efe0741b6b8c59929e5a383bb",
            "f7fe8fcbc6a24453ad7b471b4cf6f9b6",
            "0b33c349c7c44ee6a30219a1ccd6651e",
            "547081ae803a434a832120737c42e14d",
            "97d34fc4921f4bff8b05e61157a6e88e",
            "b5163605649746629ea4a7568b0aa60e",
            "d9fed54e257048ee899bfcfe317d4d05",
            "87ee6afd19774f998e0e106cb84fce3d",
            "98334fc0cd1d4452a7864d6ab3665365",
            "7777b6bde6654174b21f7585345395a3",
            "c69efd72e362433f83464a307b549491",
            "7bbae5f74f7e42dfad1de76b026c8af7",
            "a41b3907e077438bb8d8f7b2167b0383",
            "87ffa9be79154a8687e92cda5f11c397",
            "1cc5b14aa83c4949b2571d4d1dd7d408",
            "72c424f511f44e029aeb4bebf6833168",
            "e270288582f04ead875f3083988e048c",
            "82fbcdf7583a49c7886b2b5927bbea61",
            "9d31611155dd4574955c3eb3eb2354ed",
            "1c2c11cb92b648178cabf20ab9e2d782",
            "c0abcb7b4fd046e1824b2726d93b3694",
            "819513cd6a2f4b5d824f035991688d68",
            "33dd71313f1a42e1878064dd2fbbbbe1",
            "c4188347ffe746dd82e7aae18d2ef461",
            "df6ab53f04604918803c5462a2b6a3e3",
            "9f2821c7936b4bf8af192626c1f58a3a",
            "7ca6debe3ee04c44bbd86f7370473ae8",
            "ac3181db940e40cbab72f18a7cb10a28",
            "0abfa487282f4065a89d72b2a2a9b532",
            "3feeb8944bf1475ea00b4c266afd43ec",
            "7d5f45aa755e449d83c064ba47be17ed",
            "3deb573c157e4ffda02ae9468f7d74fd",
            "7acbb30d0fbb434ca9cf052164c59e57",
            "1fa51c24b3d240dc90c7550fd8aa0c26",
            "0d9b84bfc696417cafddf0ac58f93d68",
            "dd8a1ed1a1ac4195963f4c8e765dee33",
            "a83aef5591b247e992c94759e9be2b50",
            "e26b7381f16846aab5a5d977f29bb5b9",
            "0f011b3c94fb478faa519adb48811cd8",
            "e633e36e9ebf48e4987a18c26d8d7a83",
            "d249949f363b4467913f9b00ffb9da38"
          ]
        },
        "id": "QzQ2QYamS2bd",
        "outputId": "8d1f7292-26cc-4f2f-c2e4-a7e3376595c5"
      },
      "execution_count": null,
      "outputs": [
        {
          "output_type": "stream",
          "name": "stdout",
          "text": [
            "\n",
            "===== Training MiniDeBERTa =====\n"
          ]
        },
        {
          "output_type": "display_data",
          "data": {
            "text/plain": [
              "tokenizer_config.json:   0%|          | 0.00/52.0 [00:00<?, ?B/s]"
            ],
            "application/vnd.jupyter.widget-view+json": {
              "version_major": 2,
              "version_minor": 0,
              "model_id": "e49d9808a9f340e0879be01a7b215fb3"
            }
          },
          "metadata": {}
        },
        {
          "output_type": "display_data",
          "data": {
            "text/plain": [
              "config.json:   0%|          | 0.00/578 [00:00<?, ?B/s]"
            ],
            "application/vnd.jupyter.widget-view+json": {
              "version_major": 2,
              "version_minor": 0,
              "model_id": "7be54362d62f45bd970d9cb20ece4f2e"
            }
          },
          "metadata": {}
        },
        {
          "output_type": "display_data",
          "data": {
            "text/plain": [
              "spm.model:   0%|          | 0.00/2.46M [00:00<?, ?B/s]"
            ],
            "application/vnd.jupyter.widget-view+json": {
              "version_major": 2,
              "version_minor": 0,
              "model_id": "98334fc0cd1d4452a7864d6ab3665365"
            }
          },
          "metadata": {}
        },
        {
          "output_type": "stream",
          "name": "stderr",
          "text": [
            "/usr/local/lib/python3.12/dist-packages/transformers/convert_slow_tokenizer.py:564: UserWarning: The sentencepiece tokenizer that you are converting to a fast tokenizer uses the byte fallback option which is not implemented in the fast tokenizers. In practice this means that the fast version of the tokenizer can produce unknown tokens whereas the sentencepiece version would have converted these unknown tokens into a sequence of byte tokens matching the original piece of text.\n",
            "  warnings.warn(\n"
          ]
        },
        {
          "output_type": "display_data",
          "data": {
            "text/plain": [
              "pytorch_model.bin:   0%|          | 0.00/286M [00:00<?, ?B/s]"
            ],
            "application/vnd.jupyter.widget-view+json": {
              "version_major": 2,
              "version_minor": 0,
              "model_id": "1c2c11cb92b648178cabf20ab9e2d782"
            }
          },
          "metadata": {}
        },
        {
          "output_type": "stream",
          "name": "stderr",
          "text": [
            "Some weights of DebertaV2ForSequenceClassification were not initialized from the model checkpoint at microsoft/deberta-v3-small and are newly initialized: ['classifier.bias', 'classifier.weight', 'pooler.dense.bias', 'pooler.dense.weight']\n",
            "You should probably TRAIN this model on a down-stream task to be able to use it for predictions and inference.\n"
          ]
        },
        {
          "output_type": "display_data",
          "data": {
            "text/plain": [
              "model.safetensors:   0%|          | 0.00/286M [00:00<?, ?B/s]"
            ],
            "application/vnd.jupyter.widget-view+json": {
              "version_major": 2,
              "version_minor": 0,
              "model_id": "7d5f45aa755e449d83c064ba47be17ed"
            }
          },
          "metadata": {}
        },
        {
          "output_type": "stream",
          "name": "stderr",
          "text": [
            "Asking to truncate to max_length but no maximum length is provided and the model has no predefined maximum length. Default to no truncation.\n"
          ]
        },
        {
          "output_type": "stream",
          "name": "stdout",
          "text": [
            "Epoch 1/3 | Train Loss: 0.2116 | Val Loss: 0.0701 | Train Acc: 0.9103 | Val Acc: 0.9836\n",
            "Epoch 2/3 | Train Loss: 0.0542 | Val Loss: 0.0893 | Train Acc: 0.9859 | Val Acc: 0.9768\n",
            "Epoch 3/3 | Train Loss: 0.0242 | Val Loss: 0.0932 | Train Acc: 0.9938 | Val Acc: 0.9754\n"
          ]
        },
        {
          "output_type": "display_data",
          "data": {
            "text/plain": [
              "<Figure size 1000x400 with 2 Axes>"
            ],
            "image/png": "[encoded data removed]"
          },
          "metadata": {}
        }
      ]
    }
  ]
}